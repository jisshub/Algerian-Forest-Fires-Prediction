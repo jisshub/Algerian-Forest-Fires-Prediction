{
 "cells": [
  {
   "cell_type": "markdown",
   "metadata": {},
   "source": [
    "# Algeria Forest Fires Prediction\n",
    "\n",
    "**Attribute Information:**\n",
    "- Date: (DD/MM/YYYY) Day,\n",
    "- Month: (MM) Month,\n",
    "- Year: (YYYY) Year\n",
    "- Temp: Temparature in Celsius,\n",
    "- RH: Relative Humidity in %,\n",
    "- Wind: Wind Speed in km/h,\n",
    "- Rain: Rainfall in mm,\n",
    "- Fine Fuel Moisture Code(FFMC) index,\n",
    "- Duff Moisture Code(DMC) index,\n",
    "- Drought Code(DC) index,\n",
    "- Initial Spread Index(ISI),\n",
    "- Build Up Index(BUI),\n",
    "- Fire Weather Index(FWI),\n",
    "- Classes: (0) No Fire, (1) Fire\n",
    "\n"
   ]
  },
  {
   "cell_type": "markdown",
   "metadata": {},
   "source": [
    "## Import Libraries "
   ]
  },
  {
   "cell_type": "code",
   "execution_count": null,
   "metadata": {},
   "outputs": [],
   "source": [
    "import pandas as pd\n",
    "import numpy as np\n",
    "import matplotlib.pyplot as plt\n",
    "import seaborn as sns\n",
    "import missingo as msno\n",
    "%matplotlib inline\n",
    "from sklearn.preprocessing import StandardScaler\n",
    "from sklearn.model_selection import train_test_split\n",
    "from sklearn.linear_model import LogisticRegression\n",
    "from sklearn.metrics import accuracy_score\n",
    "from sklearn.tree import DecisionTreeClassifier"
   ]
  },
  {
   "cell_type": "code",
   "execution_count": null,
   "metadata": {},
   "outputs": [],
   "source": []
  }
 ],
 "metadata": {
  "kernelspec": {
   "display_name": "Python 3.8.8 ('base')",
   "language": "python",
   "name": "python3"
  },
  "language_info": {
   "name": "python",
   "version": "3.8.8"
  },
  "orig_nbformat": 4,
  "vscode": {
   "interpreter": {
    "hash": "950b5653ccfc34417735dd321d006fd482b31f7611416c3d8236dc5b17587d3f"
   }
  }
 },
 "nbformat": 4,
 "nbformat_minor": 2
}
